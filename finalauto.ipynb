{
 "cells": [
  {
   "cell_type": "code",
   "execution_count": 1,
   "metadata": {},
   "outputs": [
    {
     "name": "stdout",
     "output_type": "stream",
     "text": [
      "Connected to MySQL\n",
      "Connection closed\n",
      "Data added to Excel successfully.\n"
     ]
    }
   ],
   "source": [
    "\n",
    "import pandas as pd\n",
    "import mysql.connector\n",
    "from mysql.connector import Error\n",
    "from openpyxl import load_workbook\n",
    "\n",
    "# Set up connection parameters\n",
    "connection_params = {\n",
    "    'host': 'localhost',\n",
    "    'user': 'root',\n",
    "    'password': 'Aadi@4321A',\n",
    "    'database': 'cbretask1',\n",
    "    'port': 3306\n",
    "}\n",
    "\n",
    "try:\n",
    "    # Establish a connection to MySQL\n",
    "    connection = mysql.connector.connect(**connection_params)\n",
    "\n",
    "    if connection.is_connected():\n",
    "        print(\"Connected to MySQL\")\n",
    "\n",
    "        # Define your SQL query\n",
    "        sql_query = \"SELECT * FROM cbre1\"\n",
    "\n",
    "        # Execute the query\n",
    "        cursor = connection.cursor()\n",
    "        cursor.execute(sql_query)\n",
    "\n",
    "        # Fetch the query result\n",
    "        result = cursor.fetchall()\n",
    "\n",
    "except mysql.connector.Error as e:\n",
    "    print(\"Error:\", e)\n",
    "finally:\n",
    "    if connection.is_connected():\n",
    "        cursor.close()\n",
    "        connection.close()\n",
    "        print(\"Connection closed\")\n",
    "\n",
    "# Assuming you have column names available in cursor.column_names\n",
    "columns = cursor.column_names\n",
    "data_dict = {column: [] for column in columns}\n",
    "\n",
    "for row in result:\n",
    "    for i, value in enumerate(row):\n",
    "        data_dict[columns[i]].append(value)\n",
    "\n",
    "# Load existing Excel workbook\n",
    "excel_file_path = 'Covid-Dashboard.xlsx'\n",
    "workbook = load_workbook(excel_file_path)\n",
    "\n",
    "# Select the worksheet\n",
    "sheet_name = 'Sheet1'\n",
    "sheet = workbook[sheet_name]\n",
    "\n",
    "# Find the last row in the sheet\n",
    "last_row = sheet.max_row + 1\n",
    "\n",
    "# Append data to the sheet\n",
    "for column_idx, column_name in enumerate(columns):\n",
    "    for row_idx, value in enumerate(data_dict[column_name]):\n",
    "        sheet.cell(row=last_row + row_idx, column=column_idx + 1, value=value)\n",
    "\n",
    "# Save the changes\n",
    "workbook.save(excel_file_path)\n",
    "print(\"Data added to Excel successfully.\")\n"
   ]
  },
  {
   "cell_type": "code",
   "execution_count": 2,
   "metadata": {},
   "outputs": [
    {
     "name": "stdout",
     "output_type": "stream",
     "text": [
      "Table is created.\n",
      "Data inserted into MySQL table.\n",
      "Connection closed\n"
     ]
    }
   ],
   "source": [
    "# Establish a connection to the MySQL database\n",
    "try:\n",
    "    connection = mysql.connector.connect(\n",
    "        host='localhost',\n",
    "        database='cbretask1',\n",
    "        user='root',\n",
    "        password='Aadi@4321A'\n",
    "    )\n",
    "\n",
    "    if connection.is_connected():\n",
    "        cursor = connection.cursor()\n",
    "\n",
    "        # Create the table if not exists\n",
    "        create_table_query = \"\"\"\n",
    "CREATE TABLE IF NOT EXISTS cbre12 (\n",
    "    `State_UTs` VARCHAR(19) CHARACTER SET utf8,\n",
    "    `Zone` VARCHAR(5) CHARACTER SET utf8,\n",
    "    `Total_Cases` INT,\n",
    "    `Active` INT,\n",
    "    `Discharged` INT,\n",
    "    `Deaths` INT,\n",
    "    `Active_Ratio` NUMERIC(3, 2),\n",
    "    `Discharge_Ratio` NUMERIC(4, 2),\n",
    "    `Discharge_Avg` VARCHAR(13) CHARACTER SET utf8,\n",
    "    `Death_Ratio` NUMERIC(3, 2),\n",
    "    `Death_Avg` VARCHAR(13) CHARACTER SET utf8,\n",
    "    `Population` INT\n",
    ");\n",
    "        \"\"\"\n",
    "\n",
    "        cursor.execute(create_table_query)\n",
    "        print(\"Table is created.\")\n",
    "\n",
    "        # Sample data\n",
    "        data = [\n",
    "            ('Andaman and Nicobar','South',7670,7,7534,129,0.09,98.23,'Below Average',1.68,'Above Average',399001),\n",
    "('Andhra Pradesh','South',2069770,3128,2052230,14412,0.15,99.15,'Above Average',0.7,'Below Average',91702478),\n",
    "('Arunachal Pradesh','East',55216,42,54894,280,0.08,99.42,'Above Average',0.51,'Below Average',1711947),\n",
    "('Assam','East',613784,3272,604465,6047,0.53,98.48,'Above Average',0.99,'Below Average',35998752),\n",
    "('Bihar','East',726153,29,716462,9662,0,98.67,'Above Average',1.33,'Above Average',128500364),\n",
    "('Chandigarh','North',65380,24,64536,820,0.04,98.71,'Above Average',1.25,'Below Average',1158040),\n",
    "('Chhattisgarh','East',1006326,230,992508,13588,0.02,98.63,'Above Average',1.35,'Above Average',32199722),\n",
    "('Daman and Diu','West',10682,0,10678,4,0,99.96,'Above Average',0.04,'Below Average',773997),\n",
    "('Delhi','North',1440388,361,1414934,25093,0.03,98.23,'Below Average',1.74,'Above Average',19301096),\n",
    "('Goa','West',178467,263,174830,3374,0.15,97.96,'Below Average',1.89,'Above Average',1521992),\n",
    "('Gujarat','West',826924,226,816608,10090,0.03,98.75,'Above Average',1.22,'Below Average',70400153),\n",
    "('Haryana','North',771420,140,761230,10050,0.02,98.68,'Above Average',1.3,'Above Average',28900667),\n",
    "('Himachal Pradesh','North',225712,1100,220800,3812,0.49,97.82,'Below Average',1.69,'Above Average',7503010),\n",
    "('Jammu and Kashmir','North',334006,1450,328108,4448,0.43,98.23,'Below Average',1.33,'Above Average',14999397),\n",
    "('Jharkhand','East',348992,141,343713,5138,0.04,98.49,'Above Average',1.47,'Above Average',40100376),\n",
    "('Karnataka','South',2991614,8056,2945415,38143,0.27,98.46,'Above Average',1.27,'Below Average',69599762),\n",
    "('Kerala','South',5055224,69258,4950281,35685,1.37,97.92,'Below Average',0.71,'Below Average',34698876),\n",
    "('Ladakh','North',21148,154,20783,211,0.73,98.27,'Below Average',1,'Below Average',290492),\n",
    "('Lakshadweep','South',10365,0,10314,51,0,99.51,'Above Average',0.49,'Below Average',66001),\n",
    "('Madhya Pradesh','West',792956,75,782357,10524,0.01,98.66,'Above Average',1.33,'Above Average',85002417),\n",
    "('Maharashtra','West',6623344,15866,6466913,140565,0.24,97.64,'Below Average',2.12,'Above Average',124904071),\n",
    "('Manipur','East',124432,799,121687,1946,0.64,97.79,'Below Average',1.56,'Above Average',3436948),\n",
    "('Meghalaya','East',84013,277,82274,1462,0.33,97.93,'Below Average',1.74,'Above Average',3772103),\n",
    "('Mizoram','East',128604,5651,122494,459,4.39,95.25,'Below Average',0.36,'Below Average',1308967),\n",
    "('Nagaland','East',31978,163,31123,692,0.51,97.33,'Below Average',2.16,'Above Average',2073074),\n",
    "('Odisha','East',1045209,2534,1034300,8375,0.24,98.96,'Above Average',0.8,'Below Average',47099270),\n",
    "('Puducherry','South',128401,275,126263,1863,0.21,98.33,'Below Average',1.45,'Above Average',1646050),\n",
    "('Punjab','North',602778,318,585889,16571,0.05,97.2,'Below Average',2.75,'Above Average',30501026),\n",
    "('Rajasthan','West',954503,71,945478,8954,0.01,99.05,'Above Average',0.94,'Below Average',79502477),\n",
    "('Sikkim','East',32096,121,31575,400,0.38,98.38,'Above Average',1.25,'Below Average',658019),\n",
    "('Tamil Nadu','South',2714025,9751,2668001,36273,0.36,98.3,'Below Average',1.34,'Above Average',83697770),\n",
    "('Telengana','South',673469,3741,665755,3973,0.56,98.85,'Above Average',0.59,'Below Average',38157311),\n",
    "('Tripura','East',84665,116,83732,817,0.14,98.9,'Above Average',0.96,'Below Average',4184959),\n",
    "('Uttar Pradesh','North',1710261,90,1687262,22909,0.01,98.66,'Above Average',1.34,'Above Average',231502578),\n",
    "('Uttarakhand','North',344014,158,336453,7403,0.05,97.8,'Below Average',2.15,'Above Average',11700099),\n",
    "('West Bengal','East',1603318,8031,1575980,19307,0.5,98.29,'Below Average',1.2,'Below Average',100896618)\n",
    "        ]\n",
    "\n",
    "        # Insert data into the table\n",
    "        insert_query = \"\"\"\n",
    "            INSERT INTO cbre12 (`State/UTs`, `Zone`, `Total_Cases`, `Active`, `Discharged`, `Deaths`,\n",
    "                               `Active_Ratio`, `Discharge_Ratio`, `Discharge_Avg`, `Death_Ratio`, `Death_Avg`, `Population`)\n",
    "            VALUES (%s, %s, %s, %s, %s, %s, %s, %s, %s, %s, %s, %s);\n",
    "        \"\"\"\n",
    "        cursor.executemany(insert_query, data)\n",
    "        connection.commit()\n",
    "        print(\"Data inserted into MySQL table.\")\n",
    "\n",
    "except Error as e:\n",
    "    print(\"Error while connecting to MySQL:\", e)\n",
    "finally:\n",
    "    # Close the cursor and connection\n",
    "    if 'cursor' in locals():\n",
    "        cursor.close()\n",
    "    if 'connection' in locals() and connection.is_connected():\n",
    "        connection.close()\n",
    "        print(\"Connection closed\")\n"
   ]
  },
  {
   "cell_type": "code",
   "execution_count": 3,
   "metadata": {},
   "outputs": [],
   "source": [
    "# Get the number of rows and columns in the sheet\n",
    "num_rows = sheet.max_row\n",
    "num_columns = sheet.max_column"
   ]
  },
  {
   "cell_type": "code",
   "execution_count": 4,
   "metadata": {},
   "outputs": [
    {
     "name": "stdout",
     "output_type": "stream",
     "text": [
      "Number of rows in 'Sheet1': 37\n",
      "Number of columns in 'Sheet1': 12\n"
     ]
    }
   ],
   "source": [
    "print(f\"Number of rows in '{sheet_name}': {num_rows}\")\n",
    "print(f\"Number of columns in '{sheet_name}': {num_columns}\")"
   ]
  },
  {
   "cell_type": "code",
   "execution_count": 5,
   "metadata": {},
   "outputs": [
    {
     "name": "stdout",
     "output_type": "stream",
     "text": [
      "Data added to Excel successfully.\n"
     ]
    }
   ],
   "source": [
    "import pandas as pd\n",
    "from openpyxl import load_workbook\n",
    "\n",
    "# Load the new Excel file\n",
    "new_excel_file_path = 'Data_Africa.xlsx'\n",
    "new_data = pd.read_excel(new_excel_file_path)\n",
    "\n",
    "# Load existing Excel workbook\n",
    "excel_file_path = 'Covid-Dashboard.xlsx'\n",
    "workbook = load_workbook(excel_file_path)\n",
    "\n",
    "# Select the worksheet\n",
    "sheet_name = 'Aadi'\n",
    "sheet = workbook[sheet_name]\n",
    "\n",
    "# Find the last row in the sheet\n",
    "last_row = sheet.max_row + 1\n",
    "\n",
    "# Iterate through the rows of the new data and append to the sheet\n",
    "for index, row in new_data.iterrows():\n",
    "    for column_idx, column_name in enumerate(row.index):\n",
    "        sheet.cell(row=last_row + index, column=column_idx + 1, value=row[column_name])\n",
    "\n",
    "# Save the changes\n",
    "workbook.save(excel_file_path)\n",
    "print(\"Data added to Excel successfully.\")\n"
   ]
  },
  {
   "cell_type": "code",
   "execution_count": 6,
   "metadata": {},
   "outputs": [
    {
     "name": "stdout",
     "output_type": "stream",
     "text": [
      "Number of rows in 'Aadi': 5337\n",
      "Number of columns in 'Aadi': 6\n"
     ]
    }
   ],
   "source": [
    "# Get the number of rows and columns in the sheet\n",
    "num_rows = sheet.max_row\n",
    "num_columns = sheet.max_column\n",
    "print(f\"Number of rows in '{sheet_name}': {num_rows}\")\n",
    "print(f\"Number of columns in '{sheet_name}': {num_columns}\")"
   ]
  },
  {
   "cell_type": "code",
   "execution_count": null,
   "metadata": {},
   "outputs": [],
   "source": []
  }
 ],
 "metadata": {
  "kernelspec": {
   "display_name": "Python 3",
   "language": "python",
   "name": "python3"
  },
  "language_info": {
   "codemirror_mode": {
    "name": "ipython",
    "version": 3
   },
   "file_extension": ".py",
   "mimetype": "text/x-python",
   "name": "python",
   "nbconvert_exporter": "python",
   "pygments_lexer": "ipython3",
   "version": "3.10.11"
  },
  "orig_nbformat": 4
 },
 "nbformat": 4,
 "nbformat_minor": 2
}
